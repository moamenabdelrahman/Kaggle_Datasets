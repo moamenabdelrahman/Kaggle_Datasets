{
 "cells": [
  {
   "cell_type": "markdown",
   "id": "28a148c6",
   "metadata": {},
   "source": [
    "# Vehicle Dataset\n",
    "### a dataset contains records of number of used vehicles, its data fields are:\n",
    "* `name`: Name of the vehicle\n",
    "* `year`: year when the vehicle produced\n",
    "* `selling_price`: the price of the vehicle\n",
    "* `km_driven`: the distance travelled by the vehicle since produced\n",
    "* `fuel`: the type of fuel it operates on\n",
    "* `seller_type`: type of the seller\n",
    "* `transmission`: transmission type of the vehicle\n",
    "* `owner`: the order of ownership of the vehicle seller\n",
    "* `mileage`: kilometers travelled by the vehicle for each liter of fuel\n",
    "* `engine`: number of CC\n",
    "* `max_power`: power of the vehicle in bhp\n",
    "* `torque`: more info for the engine torque\n",
    "* `seats`: number of seatsin the vehicle"
   ]
  },
  {
   "cell_type": "markdown",
   "id": "4233a997",
   "metadata": {},
   "source": [
    "## Author: Moamen Abdelrahman\n",
    "### LinkedIn profile: https://www.linkedin.com/in/moamen-abdelrahman05/"
   ]
  },
  {
   "cell_type": "markdown",
   "id": "4f6ef73a",
   "metadata": {},
   "source": [
    "# Data Wrangling"
   ]
  },
  {
   "cell_type": "code",
   "execution_count": 1,
   "id": "7e2bb1b2",
   "metadata": {},
   "outputs": [],
   "source": [
    "# importing important libraries\n",
    "import pandas as pd\n",
    "import numpy as np\n",
    "import matplotlib.pyplot as plt\n",
    "import math"
   ]
  },
  {
   "cell_type": "code",
   "execution_count": 2,
   "id": "dc096607",
   "metadata": {},
   "outputs": [],
   "source": [
    "# load in the dataset\n",
    "df = pd.read_csv('Car details v3.csv')"
   ]
  },
  {
   "cell_type": "code",
   "execution_count": 3,
   "id": "acdd66b9",
   "metadata": {},
   "outputs": [
    {
     "data": {
      "text/html": [
       "<div>\n",
       "<style scoped>\n",
       "    .dataframe tbody tr th:only-of-type {\n",
       "        vertical-align: middle;\n",
       "    }\n",
       "\n",
       "    .dataframe tbody tr th {\n",
       "        vertical-align: top;\n",
       "    }\n",
       "\n",
       "    .dataframe thead th {\n",
       "        text-align: right;\n",
       "    }\n",
       "</style>\n",
       "<table border=\"1\" class=\"dataframe\">\n",
       "  <thead>\n",
       "    <tr style=\"text-align: right;\">\n",
       "      <th></th>\n",
       "      <th>name</th>\n",
       "      <th>year</th>\n",
       "      <th>selling_price</th>\n",
       "      <th>km_driven</th>\n",
       "      <th>fuel</th>\n",
       "      <th>seller_type</th>\n",
       "      <th>transmission</th>\n",
       "      <th>owner</th>\n",
       "      <th>mileage</th>\n",
       "      <th>engine</th>\n",
       "      <th>max_power</th>\n",
       "      <th>torque</th>\n",
       "      <th>seats</th>\n",
       "    </tr>\n",
       "  </thead>\n",
       "  <tbody>\n",
       "    <tr>\n",
       "      <th>0</th>\n",
       "      <td>Maruti Swift Dzire VDI</td>\n",
       "      <td>2014</td>\n",
       "      <td>450000</td>\n",
       "      <td>145500</td>\n",
       "      <td>Diesel</td>\n",
       "      <td>Individual</td>\n",
       "      <td>Manual</td>\n",
       "      <td>First Owner</td>\n",
       "      <td>23.4 kmpl</td>\n",
       "      <td>1248 CC</td>\n",
       "      <td>74 bhp</td>\n",
       "      <td>190Nm@ 2000rpm</td>\n",
       "      <td>5.0</td>\n",
       "    </tr>\n",
       "    <tr>\n",
       "      <th>1</th>\n",
       "      <td>Skoda Rapid 1.5 TDI Ambition</td>\n",
       "      <td>2014</td>\n",
       "      <td>370000</td>\n",
       "      <td>120000</td>\n",
       "      <td>Diesel</td>\n",
       "      <td>Individual</td>\n",
       "      <td>Manual</td>\n",
       "      <td>Second Owner</td>\n",
       "      <td>21.14 kmpl</td>\n",
       "      <td>1498 CC</td>\n",
       "      <td>103.52 bhp</td>\n",
       "      <td>250Nm@ 1500-2500rpm</td>\n",
       "      <td>5.0</td>\n",
       "    </tr>\n",
       "    <tr>\n",
       "      <th>2</th>\n",
       "      <td>Honda City 2017-2020 EXi</td>\n",
       "      <td>2006</td>\n",
       "      <td>158000</td>\n",
       "      <td>140000</td>\n",
       "      <td>Petrol</td>\n",
       "      <td>Individual</td>\n",
       "      <td>Manual</td>\n",
       "      <td>Third Owner</td>\n",
       "      <td>17.7 kmpl</td>\n",
       "      <td>1497 CC</td>\n",
       "      <td>78 bhp</td>\n",
       "      <td>12.7@ 2,700(kgm@ rpm)</td>\n",
       "      <td>5.0</td>\n",
       "    </tr>\n",
       "  </tbody>\n",
       "</table>\n",
       "</div>"
      ],
      "text/plain": [
       "                           name  year  selling_price  km_driven    fuel  \\\n",
       "0        Maruti Swift Dzire VDI  2014         450000     145500  Diesel   \n",
       "1  Skoda Rapid 1.5 TDI Ambition  2014         370000     120000  Diesel   \n",
       "2      Honda City 2017-2020 EXi  2006         158000     140000  Petrol   \n",
       "\n",
       "  seller_type transmission         owner     mileage   engine   max_power  \\\n",
       "0  Individual       Manual   First Owner   23.4 kmpl  1248 CC      74 bhp   \n",
       "1  Individual       Manual  Second Owner  21.14 kmpl  1498 CC  103.52 bhp   \n",
       "2  Individual       Manual   Third Owner   17.7 kmpl  1497 CC      78 bhp   \n",
       "\n",
       "                  torque  seats  \n",
       "0         190Nm@ 2000rpm    5.0  \n",
       "1    250Nm@ 1500-2500rpm    5.0  \n",
       "2  12.7@ 2,700(kgm@ rpm)    5.0  "
      ]
     },
     "execution_count": 3,
     "metadata": {},
     "output_type": "execute_result"
    }
   ],
   "source": [
    "# view few rows of the data\n",
    "df.head(3)"
   ]
  },
  {
   "cell_type": "code",
   "execution_count": 4,
   "id": "f193caab",
   "metadata": {},
   "outputs": [],
   "source": [
    "# polishing column names\n",
    "df.columns = df.columns.str.replace('_', ' ').str.strip().str.title()"
   ]
  },
  {
   "cell_type": "code",
   "execution_count": 5,
   "id": "a2e6a7fd",
   "metadata": {},
   "outputs": [
    {
     "data": {
      "text/html": [
       "<div>\n",
       "<style scoped>\n",
       "    .dataframe tbody tr th:only-of-type {\n",
       "        vertical-align: middle;\n",
       "    }\n",
       "\n",
       "    .dataframe tbody tr th {\n",
       "        vertical-align: top;\n",
       "    }\n",
       "\n",
       "    .dataframe thead th {\n",
       "        text-align: right;\n",
       "    }\n",
       "</style>\n",
       "<table border=\"1\" class=\"dataframe\">\n",
       "  <thead>\n",
       "    <tr style=\"text-align: right;\">\n",
       "      <th></th>\n",
       "      <th>Name</th>\n",
       "      <th>Year</th>\n",
       "      <th>Selling Price</th>\n",
       "      <th>Km Driven</th>\n",
       "      <th>Fuel</th>\n",
       "      <th>Seller Type</th>\n",
       "      <th>Transmission</th>\n",
       "      <th>Owner</th>\n",
       "      <th>Mileage</th>\n",
       "      <th>Engine</th>\n",
       "      <th>Max Power</th>\n",
       "      <th>Torque</th>\n",
       "      <th>Seats</th>\n",
       "    </tr>\n",
       "  </thead>\n",
       "  <tbody>\n",
       "    <tr>\n",
       "      <th>0</th>\n",
       "      <td>Maruti Swift Dzire VDI</td>\n",
       "      <td>2014</td>\n",
       "      <td>450000</td>\n",
       "      <td>145500</td>\n",
       "      <td>Diesel</td>\n",
       "      <td>Individual</td>\n",
       "      <td>Manual</td>\n",
       "      <td>First Owner</td>\n",
       "      <td>23.4 kmpl</td>\n",
       "      <td>1248 CC</td>\n",
       "      <td>74 bhp</td>\n",
       "      <td>190Nm@ 2000rpm</td>\n",
       "      <td>5.0</td>\n",
       "    </tr>\n",
       "    <tr>\n",
       "      <th>1</th>\n",
       "      <td>Skoda Rapid 1.5 TDI Ambition</td>\n",
       "      <td>2014</td>\n",
       "      <td>370000</td>\n",
       "      <td>120000</td>\n",
       "      <td>Diesel</td>\n",
       "      <td>Individual</td>\n",
       "      <td>Manual</td>\n",
       "      <td>Second Owner</td>\n",
       "      <td>21.14 kmpl</td>\n",
       "      <td>1498 CC</td>\n",
       "      <td>103.52 bhp</td>\n",
       "      <td>250Nm@ 1500-2500rpm</td>\n",
       "      <td>5.0</td>\n",
       "    </tr>\n",
       "    <tr>\n",
       "      <th>2</th>\n",
       "      <td>Honda City 2017-2020 EXi</td>\n",
       "      <td>2006</td>\n",
       "      <td>158000</td>\n",
       "      <td>140000</td>\n",
       "      <td>Petrol</td>\n",
       "      <td>Individual</td>\n",
       "      <td>Manual</td>\n",
       "      <td>Third Owner</td>\n",
       "      <td>17.7 kmpl</td>\n",
       "      <td>1497 CC</td>\n",
       "      <td>78 bhp</td>\n",
       "      <td>12.7@ 2,700(kgm@ rpm)</td>\n",
       "      <td>5.0</td>\n",
       "    </tr>\n",
       "  </tbody>\n",
       "</table>\n",
       "</div>"
      ],
      "text/plain": [
       "                           Name  Year  Selling Price  Km Driven    Fuel  \\\n",
       "0        Maruti Swift Dzire VDI  2014         450000     145500  Diesel   \n",
       "1  Skoda Rapid 1.5 TDI Ambition  2014         370000     120000  Diesel   \n",
       "2      Honda City 2017-2020 EXi  2006         158000     140000  Petrol   \n",
       "\n",
       "  Seller Type Transmission         Owner     Mileage   Engine   Max Power  \\\n",
       "0  Individual       Manual   First Owner   23.4 kmpl  1248 CC      74 bhp   \n",
       "1  Individual       Manual  Second Owner  21.14 kmpl  1498 CC  103.52 bhp   \n",
       "2  Individual       Manual   Third Owner   17.7 kmpl  1497 CC      78 bhp   \n",
       "\n",
       "                  Torque  Seats  \n",
       "0         190Nm@ 2000rpm    5.0  \n",
       "1    250Nm@ 1500-2500rpm    5.0  \n",
       "2  12.7@ 2,700(kgm@ rpm)    5.0  "
      ]
     },
     "execution_count": 5,
     "metadata": {},
     "output_type": "execute_result"
    }
   ],
   "source": [
    "# view changes\n",
    "df.head(3)"
   ]
  },
  {
   "cell_type": "code",
   "execution_count": 6,
   "id": "7fd55751",
   "metadata": {},
   "outputs": [
    {
     "name": "stdout",
     "output_type": "stream",
     "text": [
      "<class 'pandas.core.frame.DataFrame'>\n",
      "RangeIndex: 8128 entries, 0 to 8127\n",
      "Data columns (total 13 columns):\n",
      " #   Column         Non-Null Count  Dtype  \n",
      "---  ------         --------------  -----  \n",
      " 0   Name           8128 non-null   object \n",
      " 1   Year           8128 non-null   int64  \n",
      " 2   Selling Price  8128 non-null   int64  \n",
      " 3   Km Driven      8128 non-null   int64  \n",
      " 4   Fuel           8128 non-null   object \n",
      " 5   Seller Type    8128 non-null   object \n",
      " 6   Transmission   8128 non-null   object \n",
      " 7   Owner          8128 non-null   object \n",
      " 8   Mileage        7907 non-null   object \n",
      " 9   Engine         7907 non-null   object \n",
      " 10  Max Power      7913 non-null   object \n",
      " 11  Torque         7906 non-null   object \n",
      " 12  Seats          7907 non-null   float64\n",
      "dtypes: float64(1), int64(3), object(9)\n",
      "memory usage: 825.6+ KB\n"
     ]
    }
   ],
   "source": [
    "# take a look at dtypes and some info\n",
    "df.info()"
   ]
  },
  {
   "cell_type": "markdown",
   "id": "c5937264",
   "metadata": {},
   "source": [
    "#### `Mileage`, `Engine`, `Max Power` and `Seats` dtypes need to be fixed"
   ]
  },
  {
   "cell_type": "code",
   "execution_count": 7,
   "id": "d2d6875f",
   "metadata": {},
   "outputs": [
    {
     "data": {
      "text/plain": [
       "0     23.4 kmpl\n",
       "1    21.14 kmpl\n",
       "2     17.7 kmpl\n",
       "Name: Mileage, dtype: object"
      ]
     },
     "execution_count": 7,
     "metadata": {},
     "output_type": "execute_result"
    }
   ],
   "source": [
    "# view some rows of `Mileage` column\n",
    "df['Mileage'].head(3)"
   ]
  },
  {
   "cell_type": "code",
   "execution_count": 8,
   "id": "849d3aea",
   "metadata": {},
   "outputs": [],
   "source": [
    "# extracting mileage from string to float\n",
    "df['Mileage'] = df['Mileage'].str.split().str[0]\n",
    "\n",
    "# convert values from str to float\n",
    "df['Mileage'] = df['Mileage'].astype(float)"
   ]
  },
  {
   "cell_type": "code",
   "execution_count": 9,
   "id": "020550a0",
   "metadata": {},
   "outputs": [
    {
     "data": {
      "text/plain": [
       "0        74 bhp\n",
       "1    103.52 bhp\n",
       "2        78 bhp\n",
       "Name: Max Power, dtype: object"
      ]
     },
     "execution_count": 9,
     "metadata": {},
     "output_type": "execute_result"
    }
   ],
   "source": [
    "# view some rows of `Max Power` column\n",
    "df['Max Power'].head(3)"
   ]
  },
  {
   "cell_type": "code",
   "execution_count": 10,
   "id": "ec3b31cc",
   "metadata": {},
   "outputs": [],
   "source": [
    "# extracting max power from string\n",
    "df['Max Power'] = df['Max Power'].str.split().str[0]\n",
    "\n",
    "# assigning no-value cells to -1 to fix dtype issue while using `.astype()`\n",
    "df.loc[ df['Max Power'] == 'bhp', 'Max Power'] = '-1'\n",
    "\n",
    "# convert values from str to float\n",
    "df['Max Power'] = df['Max Power'].astype(float)"
   ]
  },
  {
   "cell_type": "code",
   "execution_count": 11,
   "id": "b2eda9c8",
   "metadata": {},
   "outputs": [],
   "source": [
    "# fillna in seats with -1 to fix dtype issue while using `.astype()`\n",
    "df['Seats'].fillna(-1, inplace=True)\n",
    "\n",
    "# convert values from str to int\n",
    "df['Seats'] = df['Seats'].astype(int)"
   ]
  },
  {
   "cell_type": "code",
   "execution_count": 12,
   "id": "6e51d5b4",
   "metadata": {},
   "outputs": [
    {
     "name": "stdout",
     "output_type": "stream",
     "text": [
      "<class 'pandas.core.frame.DataFrame'>\n",
      "RangeIndex: 8128 entries, 0 to 8127\n",
      "Data columns (total 13 columns):\n",
      " #   Column         Non-Null Count  Dtype  \n",
      "---  ------         --------------  -----  \n",
      " 0   Name           8128 non-null   object \n",
      " 1   Year           8128 non-null   int64  \n",
      " 2   Selling Price  8128 non-null   int64  \n",
      " 3   Km Driven      8128 non-null   int64  \n",
      " 4   Fuel           8128 non-null   object \n",
      " 5   Seller Type    8128 non-null   object \n",
      " 6   Transmission   8128 non-null   object \n",
      " 7   Owner          8128 non-null   object \n",
      " 8   Mileage        7907 non-null   float64\n",
      " 9   Engine         7907 non-null   object \n",
      " 10  Max Power      7913 non-null   float64\n",
      " 11  Torque         7906 non-null   object \n",
      " 12  Seats          8128 non-null   int32  \n",
      "dtypes: float64(2), int32(1), int64(3), object(7)\n",
      "memory usage: 793.9+ KB\n"
     ]
    }
   ],
   "source": [
    "# check changes\n",
    "df.info()"
   ]
  },
  {
   "cell_type": "code",
   "execution_count": 13,
   "id": "d7e04aab",
   "metadata": {},
   "outputs": [
    {
     "name": "stdout",
     "output_type": "stream",
     "text": [
      "1202 rows of the dataset are duplicated\n"
     ]
    }
   ],
   "source": [
    "# check duplicates in the data set\n",
    "dupl = df.duplicated().sum()\n",
    "print(f'{dupl} rows of the dataset are duplicated')"
   ]
  },
  {
   "cell_type": "code",
   "execution_count": 14,
   "id": "9ac36f2f",
   "metadata": {},
   "outputs": [],
   "source": [
    "# drop these duplicated rows from the dataset\n",
    "df.drop_duplicates(inplace=True, ignore_index=True)"
   ]
  },
  {
   "cell_type": "markdown",
   "id": "451b4ef1",
   "metadata": {},
   "source": [
    "#### check each column for inconsistency"
   ]
  },
  {
   "cell_type": "code",
   "execution_count": 15,
   "id": "184de8f6",
   "metadata": {},
   "outputs": [
    {
     "data": {
      "text/plain": [
       "0"
      ]
     },
     "execution_count": 15,
     "metadata": {},
     "output_type": "execute_result"
    }
   ],
   "source": [
    "# check null values in `Name` col\n",
    "df['Name'].isnull().sum()"
   ]
  },
  {
   "cell_type": "code",
   "execution_count": 16,
   "id": "2aac365f",
   "metadata": {},
   "outputs": [
    {
     "data": {
      "text/plain": [
       "count    6926.000000\n",
       "mean     2013.420300\n",
       "std         4.078286\n",
       "min      1983.000000\n",
       "25%      2011.000000\n",
       "50%      2014.000000\n",
       "75%      2017.000000\n",
       "max      2020.000000\n",
       "Name: Year, dtype: float64"
      ]
     },
     "execution_count": 16,
     "metadata": {},
     "output_type": "execute_result"
    }
   ],
   "source": [
    "# check for inconsistency in `Year` col\n",
    "df['Year'].describe()"
   ]
  },
  {
   "cell_type": "code",
   "execution_count": 17,
   "id": "f5438bff",
   "metadata": {},
   "outputs": [
    {
     "data": {
      "text/plain": [
       "0"
      ]
     },
     "execution_count": 17,
     "metadata": {},
     "output_type": "execute_result"
    }
   ],
   "source": [
    "# check null values in `Year` col\n",
    "df['Year'].isnull().sum()"
   ]
  },
  {
   "cell_type": "code",
   "execution_count": 18,
   "id": "138c9be4",
   "metadata": {},
   "outputs": [
    {
     "data": {
      "text/plain": [
       "count    6.926000e+03\n",
       "mean     5.172707e+05\n",
       "std      5.197670e+05\n",
       "min      2.999900e+04\n",
       "25%      2.500000e+05\n",
       "50%      4.000000e+05\n",
       "75%      6.335000e+05\n",
       "max      1.000000e+07\n",
       "Name: Selling Price, dtype: float64"
      ]
     },
     "execution_count": 18,
     "metadata": {},
     "output_type": "execute_result"
    }
   ],
   "source": [
    "# check for inconsistency in `Selling Price` col\n",
    "df['Selling Price'].describe()"
   ]
  },
  {
   "cell_type": "code",
   "execution_count": 19,
   "id": "85ccfda7",
   "metadata": {},
   "outputs": [],
   "source": [
    "# setting price in $K to reduce digits\n",
    "df['Selling Price'] /= 1000"
   ]
  },
  {
   "cell_type": "code",
   "execution_count": 20,
   "id": "30146c22",
   "metadata": {},
   "outputs": [
    {
     "data": {
      "text/plain": [
       "0"
      ]
     },
     "execution_count": 20,
     "metadata": {},
     "output_type": "execute_result"
    }
   ],
   "source": [
    "# check null values in `Selling Price` col\n",
    "df['Selling Price'].isnull().sum()"
   ]
  },
  {
   "cell_type": "code",
   "execution_count": 21,
   "id": "5cfc2c13",
   "metadata": {},
   "outputs": [
    {
     "data": {
      "text/plain": [
       "count    6.926000e+03\n",
       "mean     7.399568e+04\n",
       "std      5.835810e+04\n",
       "min      1.000000e+00\n",
       "25%      4.000000e+04\n",
       "50%      7.000000e+04\n",
       "75%      1.000000e+05\n",
       "max      2.360457e+06\n",
       "Name: Km Driven, dtype: float64"
      ]
     },
     "execution_count": 21,
     "metadata": {},
     "output_type": "execute_result"
    }
   ],
   "source": [
    "# check for inconsistency in `Km Driven` col\n",
    "df['Km Driven'].describe()"
   ]
  },
  {
   "cell_type": "code",
   "execution_count": 22,
   "id": "e849beea",
   "metadata": {},
   "outputs": [
    {
     "data": {
      "text/plain": [
       "0"
      ]
     },
     "execution_count": 22,
     "metadata": {},
     "output_type": "execute_result"
    }
   ],
   "source": [
    "# check null values in `Km Driven` col\n",
    "df['Km Driven'].isnull().sum()"
   ]
  },
  {
   "cell_type": "code",
   "execution_count": 23,
   "id": "42c1f167",
   "metadata": {},
   "outputs": [
    {
     "data": {
      "image/png": "[encoded data removed]",
      "text/plain": [
       "<Figure size 432x288 with 1 Axes>"
      ]
     },
     "metadata": {
      "needs_background": "light"
     },
     "output_type": "display_data"
    }
   ],
   "source": [
    "# take a look at distribution of `Km Driven` col\n",
    "plt.hist(df['Km Driven'], bins=50);"
   ]
  },
  {
   "cell_type": "code",
   "execution_count": 24,
   "id": "b08d9ee3",
   "metadata": {},
   "outputs": [
    {
     "data": {
      "text/plain": [
       "3161    2360457\n",
       "1646    1500000\n",
       "3183     577414\n",
       "5744     500000\n",
       "3284     500000\n",
       "4411     475000\n",
       "4485     440000\n",
       "4737     426000\n",
       "2080     380000\n",
       "6104     376412\n",
       "Name: Km Driven, dtype: int64"
      ]
     },
     "execution_count": 24,
     "metadata": {},
     "output_type": "execute_result"
    }
   ],
   "source": [
    "# the first two values are pretty sure outliers!\n",
    "df.sort_values(by=['Km Driven'], ascending=False)['Km Driven'][:10]"
   ]
  },
  {
   "cell_type": "code",
   "execution_count": 25,
   "id": "71e9d391",
   "metadata": {},
   "outputs": [],
   "source": [
    "# drop the outliers\n",
    "df = df.loc[ df['Km Driven'] < 1e+06 ]\n",
    "\n",
    "# fix index after dropping\n",
    "df.reset_index(drop=True, inplace=True)"
   ]
  },
  {
   "cell_type": "code",
   "execution_count": 26,
   "id": "ad408aa4",
   "metadata": {},
   "outputs": [
    {
     "data": {
      "image/png": "[encoded data removed]",
      "text/plain": [
       "<Figure size 432x288 with 1 Axes>"
      ]
     },
     "metadata": {
      "needs_background": "light"
     },
     "output_type": "display_data"
    }
   ],
   "source": [
    "# take a look again\n",
    "plt.hist(df['Km Driven'], bins=50);"
   ]
  },
  {
   "cell_type": "code",
   "execution_count": 27,
   "id": "35a1cc89",
   "metadata": {},
   "outputs": [
    {
     "data": {
      "text/plain": [
       "array(['Diesel', 'Petrol', 'LPG', 'CNG'], dtype=object)"
      ]
     },
     "execution_count": 27,
     "metadata": {},
     "output_type": "execute_result"
    }
   ],
   "source": [
    "# check for typos in `Fuel` col\n",
    "df['Fuel'].unique()"
   ]
  },
  {
   "cell_type": "code",
   "execution_count": 28,
   "id": "70b4f610",
   "metadata": {},
   "outputs": [
    {
     "data": {
      "text/plain": [
       "0"
      ]
     },
     "execution_count": 28,
     "metadata": {},
     "output_type": "execute_result"
    }
   ],
   "source": [
    "# check null values in `Fuel` col\n",
    "df['Fuel'].isnull().sum()"
   ]
  },
  {
   "cell_type": "code",
   "execution_count": 29,
   "id": "4782c6ab",
   "metadata": {},
   "outputs": [
    {
     "data": {
      "text/plain": [
       "array(['Individual', 'Dealer', 'Trustmark Dealer'], dtype=object)"
      ]
     },
     "execution_count": 29,
     "metadata": {},
     "output_type": "execute_result"
    }
   ],
   "source": [
    "# check for typos in `Seller Type` col\n",
    "df['Seller Type'].unique()"
   ]
  },
  {
   "cell_type": "code",
   "execution_count": 30,
   "id": "44d2bf97",
   "metadata": {},
   "outputs": [
    {
     "data": {
      "text/plain": [
       "0"
      ]
     },
     "execution_count": 30,
     "metadata": {},
     "output_type": "execute_result"
    }
   ],
   "source": [
    "# check null values in `Seller Type` col\n",
    "df['Seller Type'].isnull().sum()"
   ]
  },
  {
   "cell_type": "code",
   "execution_count": 31,
   "id": "005323bd",
   "metadata": {},
   "outputs": [
    {
     "data": {
      "text/plain": [
       "array(['Manual', 'Automatic'], dtype=object)"
      ]
     },
     "execution_count": 31,
     "metadata": {},
     "output_type": "execute_result"
    }
   ],
   "source": [
    "# check for typos in `Transmission` col\n",
    "df['Transmission'].unique()"
   ]
  },
  {
   "cell_type": "code",
   "execution_count": 32,
   "id": "684ffce8",
   "metadata": {},
   "outputs": [
    {
     "data": {
      "text/plain": [
       "0"
      ]
     },
     "execution_count": 32,
     "metadata": {},
     "output_type": "execute_result"
    }
   ],
   "source": [
    "# check null values in `Transmission` col\n",
    "df['Transmission'].isnull().sum()"
   ]
  },
  {
   "cell_type": "code",
   "execution_count": 33,
   "id": "f1bc3174",
   "metadata": {},
   "outputs": [
    {
     "data": {
      "text/plain": [
       "array(['First Owner', 'Second Owner', 'Third Owner',\n",
       "       'Fourth & Above Owner', 'Test Drive Car'], dtype=object)"
      ]
     },
     "execution_count": 33,
     "metadata": {},
     "output_type": "execute_result"
    }
   ],
   "source": [
    "# check for typos in `Owner` col\n",
    "df['Owner'].unique()"
   ]
  },
  {
   "cell_type": "code",
   "execution_count": 34,
   "id": "187c9b20",
   "metadata": {},
   "outputs": [
    {
     "data": {
      "text/plain": [
       "0"
      ]
     },
     "execution_count": 34,
     "metadata": {},
     "output_type": "execute_result"
    }
   ],
   "source": [
    "# check null values in `Owner` col\n",
    "df['Owner'].isnull().sum()"
   ]
  },
  {
   "cell_type": "code",
   "execution_count": 35,
   "id": "31e563a1",
   "metadata": {},
   "outputs": [
    {
     "data": {
      "text/plain": [
       "count    6716.000000\n",
       "mean       19.466088\n",
       "std         4.049388\n",
       "min         0.000000\n",
       "25%        16.800000\n",
       "50%        19.440000\n",
       "75%        22.500000\n",
       "max        42.000000\n",
       "Name: Mileage, dtype: float64"
      ]
     },
     "execution_count": 35,
     "metadata": {},
     "output_type": "execute_result"
    }
   ],
   "source": [
    "# how is there mileage of Zero!?\n",
    "df['Mileage'].describe()"
   ]
  },
  {
   "cell_type": "code",
   "execution_count": 36,
   "id": "b041aaec",
   "metadata": {},
   "outputs": [
    {
     "data": {
      "image/png": "[encoded data removed]",
      "text/plain": [
       "<Figure size 432x288 with 1 Axes>"
      ]
     },
     "metadata": {
      "needs_background": "light"
     },
     "output_type": "display_data"
    }
   ],
   "source": [
    "# take a look at distr. of `Mileage` col\n",
    "plt.hist(df['Mileage'], bins=50);"
   ]
  },
  {
   "cell_type": "code",
   "execution_count": 37,
   "id": "15258f82",
   "metadata": {},
   "outputs": [],
   "source": [
    "# distr is normal so we can use either mean or median\n",
    "mean_mileage = df['Mileage'].mean()\n",
    "\n",
    "# replace each zero with the mean mileage\n",
    "df.loc[ df['Mileage'] == 0, 'Mileage' ] = mean_mileage"
   ]
  },
  {
   "cell_type": "code",
   "execution_count": 38,
   "id": "1bcc7ff3",
   "metadata": {},
   "outputs": [
    {
     "data": {
      "text/plain": [
       "208"
      ]
     },
     "execution_count": 38,
     "metadata": {},
     "output_type": "execute_result"
    }
   ],
   "source": [
    "# check null values in `Mileage` col\n",
    "df['Mileage'].isnull().sum()"
   ]
  },
  {
   "cell_type": "code",
   "execution_count": 39,
   "id": "4a9d1be7",
   "metadata": {},
   "outputs": [],
   "source": [
    "# fill the nan's with the mean mileage\n",
    "df['Mileage'].fillna(mean_mileage, inplace=True)"
   ]
  },
  {
   "cell_type": "code",
   "execution_count": 40,
   "id": "6eb35740",
   "metadata": {},
   "outputs": [
    {
     "data": {
      "text/plain": [
       "array(['1248 CC', '1498 CC', '1497 CC', '1396 CC', '1298 CC', '1197 CC',\n",
       "       '1061 CC', '796 CC', '1364 CC', '1399 CC', '1461 CC', '993 CC',\n",
       "       nan, '1198 CC', '1199 CC', '998 CC', '1591 CC', '2179 CC',\n",
       "       '1368 CC', '2982 CC', '2494 CC', '2143 CC', '2477 CC', '1462 CC',\n",
       "       '2755 CC', '1968 CC', '1798 CC', '1196 CC', '1373 CC', '1598 CC',\n",
       "       '1998 CC', '1086 CC', '1194 CC', '1172 CC', '1405 CC', '1582 CC',\n",
       "       '999 CC', '2487 CC', '1999 CC', '3604 CC', '2987 CC', '1995 CC',\n",
       "       '1451 CC', '1969 CC', '2967 CC', '2497 CC', '1797 CC', '1991 CC',\n",
       "       '2362 CC', '1493 CC', '1599 CC', '1341 CC', '1794 CC', '799 CC',\n",
       "       '1193 CC', '2696 CC', '1495 CC', '1186 CC', '1047 CC', '2498 CC',\n",
       "       '2956 CC', '2523 CC', '1120 CC', '624 CC', '1496 CC', '1984 CC',\n",
       "       '2354 CC', '814 CC', '793 CC', '1799 CC', '936 CC', '1956 CC',\n",
       "       '1997 CC', '1499 CC', '1948 CC', '2997 CC', '2489 CC', '2499 CC',\n",
       "       '2609 CC', '2953 CC', '1150 CC', '1994 CC', '1388 CC', '1527 CC',\n",
       "       '2199 CC', '995 CC', '2993 CC', '1586 CC', '1390 CC', '909 CC',\n",
       "       '2393 CC', '3198 CC', '1339 CC', '2835 CC', '2092 CC', '1595 CC',\n",
       "       '2496 CC', '1596 CC', '1597 CC', '2596 CC', '2148 CC', '1299 CC',\n",
       "       '1590 CC', '2231 CC', '2694 CC', '2200 CC', '1795 CC', '1896 CC',\n",
       "       '1796 CC', '1422 CC', '1489 CC', '2359 CC', '2197 CC', '2999 CC',\n",
       "       '1781 CC', '2650 CC', '1343 CC', '2446 CC', '3498 CC', '2198 CC',\n",
       "       '2776 CC', '1950 CC'], dtype=object)"
      ]
     },
     "execution_count": 40,
     "metadata": {},
     "output_type": "execute_result"
    }
   ],
   "source": [
    "# check the format of the `Engine` col\n",
    "df['Engine'].unique()"
   ]
  },
  {
   "cell_type": "code",
   "execution_count": 41,
   "id": "1ea7a158",
   "metadata": {},
   "outputs": [],
   "source": [
    "# extract number of CC from string\n",
    "df['Engine'] = df['Engine'].str.split().str[0]"
   ]
  },
  {
   "cell_type": "code",
   "execution_count": 42,
   "id": "b256381e",
   "metadata": {},
   "outputs": [],
   "source": [
    "# rename the column for clarity\n",
    "df.rename(columns={'Engine':'Engine (in CC)'}, inplace=True)"
   ]
  },
  {
   "cell_type": "code",
   "execution_count": 43,
   "id": "4bba173e",
   "metadata": {},
   "outputs": [
    {
     "data": {
      "text/plain": [
       "208"
      ]
     },
     "execution_count": 43,
     "metadata": {},
     "output_type": "execute_result"
    }
   ],
   "source": [
    "# check null values in `Engine (in CC)` col\n",
    "df['Engine (in CC)'].isnull().sum()"
   ]
  },
  {
   "cell_type": "code",
   "execution_count": 44,
   "id": "58595b0f",
   "metadata": {},
   "outputs": [
    {
     "data": {
      "text/plain": [
       "count    6719.000000\n",
       "mean       87.706811\n",
       "std        31.785934\n",
       "min        -1.000000\n",
       "25%        67.100000\n",
       "50%        81.830000\n",
       "75%       100.000000\n",
       "max       400.000000\n",
       "Name: Max Power, dtype: float64"
      ]
     },
     "execution_count": 44,
     "metadata": {},
     "output_type": "execute_result"
    }
   ],
   "source": [
    "# check for inconsistency in `Max Power` col\n",
    "df['Max Power'].describe()"
   ]
  },
  {
   "cell_type": "code",
   "execution_count": 45,
   "id": "b48b0a0c",
   "metadata": {},
   "outputs": [
    {
     "data": {
      "text/html": [
       "<div>\n",
       "<style scoped>\n",
       "    .dataframe tbody tr th:only-of-type {\n",
       "        vertical-align: middle;\n",
       "    }\n",
       "\n",
       "    .dataframe tbody tr th {\n",
       "        vertical-align: top;\n",
       "    }\n",
       "\n",
       "    .dataframe thead th {\n",
       "        text-align: right;\n",
       "    }\n",
       "</style>\n",
       "<table border=\"1\" class=\"dataframe\">\n",
       "  <thead>\n",
       "    <tr style=\"text-align: right;\">\n",
       "      <th></th>\n",
       "      <th>Name</th>\n",
       "      <th>Year</th>\n",
       "      <th>Selling Price</th>\n",
       "      <th>Km Driven</th>\n",
       "      <th>Fuel</th>\n",
       "      <th>Seller Type</th>\n",
       "      <th>Transmission</th>\n",
       "      <th>Owner</th>\n",
       "      <th>Mileage</th>\n",
       "      <th>Engine (in CC)</th>\n",
       "      <th>Max Power</th>\n",
       "      <th>Torque</th>\n",
       "      <th>Seats</th>\n",
       "    </tr>\n",
       "  </thead>\n",
       "  <tbody>\n",
       "    <tr>\n",
       "      <th>547</th>\n",
       "      <td>Maruti Alto K10 LXI</td>\n",
       "      <td>2011</td>\n",
       "      <td>204.999</td>\n",
       "      <td>97500</td>\n",
       "      <td>Petrol</td>\n",
       "      <td>Individual</td>\n",
       "      <td>Manual</td>\n",
       "      <td>First Owner</td>\n",
       "      <td>19.466088</td>\n",
       "      <td>NaN</td>\n",
       "      <td>0.0</td>\n",
       "      <td>NaN</td>\n",
       "      <td>-1</td>\n",
       "    </tr>\n",
       "    <tr>\n",
       "      <th>1309</th>\n",
       "      <td>Maruti Swift Dzire VDI Optional</td>\n",
       "      <td>2017</td>\n",
       "      <td>589.000</td>\n",
       "      <td>41232</td>\n",
       "      <td>Diesel</td>\n",
       "      <td>Dealer</td>\n",
       "      <td>Manual</td>\n",
       "      <td>First Owner</td>\n",
       "      <td>19.466088</td>\n",
       "      <td>NaN</td>\n",
       "      <td>0.0</td>\n",
       "      <td>NaN</td>\n",
       "      <td>-1</td>\n",
       "    </tr>\n",
       "    <tr>\n",
       "      <th>2351</th>\n",
       "      <td>Tata Indica Vista Quadrajet LS</td>\n",
       "      <td>2012</td>\n",
       "      <td>240.000</td>\n",
       "      <td>70000</td>\n",
       "      <td>Diesel</td>\n",
       "      <td>Individual</td>\n",
       "      <td>Manual</td>\n",
       "      <td>First Owner</td>\n",
       "      <td>19.466088</td>\n",
       "      <td>NaN</td>\n",
       "      <td>0.0</td>\n",
       "      <td>NaN</td>\n",
       "      <td>-1</td>\n",
       "    </tr>\n",
       "    <tr>\n",
       "      <th>4271</th>\n",
       "      <td>Maruti Omni CNG</td>\n",
       "      <td>2000</td>\n",
       "      <td>80.000</td>\n",
       "      <td>100000</td>\n",
       "      <td>CNG</td>\n",
       "      <td>Individual</td>\n",
       "      <td>Manual</td>\n",
       "      <td>Second Owner</td>\n",
       "      <td>10.900000</td>\n",
       "      <td>796</td>\n",
       "      <td>-1.0</td>\n",
       "      <td>NaN</td>\n",
       "      <td>8</td>\n",
       "    </tr>\n",
       "  </tbody>\n",
       "</table>\n",
       "</div>"
      ],
      "text/plain": [
       "                                 Name  Year  Selling Price  Km Driven    Fuel  \\\n",
       "547               Maruti Alto K10 LXI  2011        204.999      97500  Petrol   \n",
       "1309  Maruti Swift Dzire VDI Optional  2017        589.000      41232  Diesel   \n",
       "2351   Tata Indica Vista Quadrajet LS  2012        240.000      70000  Diesel   \n",
       "4271                  Maruti Omni CNG  2000         80.000     100000     CNG   \n",
       "\n",
       "     Seller Type Transmission         Owner    Mileage Engine (in CC)  \\\n",
       "547   Individual       Manual   First Owner  19.466088            NaN   \n",
       "1309      Dealer       Manual   First Owner  19.466088            NaN   \n",
       "2351  Individual       Manual   First Owner  19.466088            NaN   \n",
       "4271  Individual       Manual  Second Owner  10.900000            796   \n",
       "\n",
       "      Max Power Torque  Seats  \n",
       "547         0.0    NaN     -1  \n",
       "1309        0.0    NaN     -1  \n",
       "2351        0.0    NaN     -1  \n",
       "4271       -1.0    NaN      8  "
      ]
     },
     "execution_count": 45,
     "metadata": {},
     "output_type": "execute_result"
    }
   ],
   "source": [
    "# check for inconsistent values\n",
    "df.loc[ df['Max Power'] <= 0 ]"
   ]
  },
  {
   "cell_type": "code",
   "execution_count": 46,
   "id": "d2b9f2b0",
   "metadata": {},
   "outputs": [],
   "source": [
    "# assigning -1's and 0's as nan\n",
    "df.loc[ df['Max Power'] <= 0, 'Max Power'] = math.nan"
   ]
  },
  {
   "cell_type": "code",
   "execution_count": 47,
   "id": "a8d228ff",
   "metadata": {},
   "outputs": [
    {
     "data": {
      "text/plain": [
       "209"
      ]
     },
     "execution_count": 47,
     "metadata": {},
     "output_type": "execute_result"
    }
   ],
   "source": [
    "# check for null values in `Max Power` col\n",
    "df['Max Power'].isnull().sum()"
   ]
  },
  {
   "cell_type": "code",
   "execution_count": 48,
   "id": "593e9da9",
   "metadata": {},
   "outputs": [
    {
     "data": {
      "image/png": "[encoded data removed]",
      "text/plain": [
       "<Figure size 432x288 with 1 Axes>"
      ]
     },
     "metadata": {
      "needs_background": "light"
     },
     "output_type": "display_data"
    }
   ],
   "source": [
    "# take a look at the distr. of `Max Power` col\n",
    "plt.hist(df['Max Power'], bins=50);"
   ]
  },
  {
   "cell_type": "code",
   "execution_count": 49,
   "id": "db79818d",
   "metadata": {},
   "outputs": [],
   "source": [
    "# it's skewed, so median is better to fill nan's\n",
    "med_power = df['Max Power'].median()\n",
    "df['Max Power'].fillna(med_power, inplace=True)"
   ]
  },
  {
   "cell_type": "code",
   "execution_count": 50,
   "id": "ea76aae6",
   "metadata": {},
   "outputs": [
    {
     "data": {
      "text/plain": [
       "0"
      ]
     },
     "execution_count": 50,
     "metadata": {},
     "output_type": "execute_result"
    }
   ],
   "source": [
    "# check changes\n",
    "df['Max Power'].isnull().sum()"
   ]
  },
  {
   "cell_type": "code",
   "execution_count": 51,
   "id": "3f8af99d",
   "metadata": {},
   "outputs": [
    {
     "data": {
      "image/png": "[encoded data removed]",
      "text/plain": [
       "<Figure size 432x288 with 1 Axes>"
      ]
     },
     "metadata": {
      "needs_background": "light"
     },
     "output_type": "display_data"
    }
   ],
   "source": [
    "# check changes\n",
    "plt.hist(df['Max Power'], bins=50);"
   ]
  },
  {
   "cell_type": "code",
   "execution_count": 52,
   "id": "7f05c3c5",
   "metadata": {},
   "outputs": [
    {
     "data": {
      "text/plain": [
       "209"
      ]
     },
     "execution_count": 52,
     "metadata": {},
     "output_type": "execute_result"
    }
   ],
   "source": [
    "# check null values in `Torque` col\n",
    "df['Torque'].isnull().sum()"
   ]
  },
  {
   "cell_type": "code",
   "execution_count": 53,
   "id": "7fc4a0d6",
   "metadata": {},
   "outputs": [
    {
     "data": {
      "text/plain": [
       "array([ 5,  4, -1,  7,  8,  6,  9, 10, 14,  2])"
      ]
     },
     "execution_count": 53,
     "metadata": {},
     "output_type": "execute_result"
    }
   ],
   "source": [
    "# check for inconsistency in `Seats` col\n",
    "df['Seats'].unique()"
   ]
  },
  {
   "cell_type": "code",
   "execution_count": 54,
   "id": "d0803075",
   "metadata": {},
   "outputs": [],
   "source": [
    "# assign -1's as nan\n",
    "df.loc[ df['Seats'] == -1, 'Seats'] = math.nan"
   ]
  },
  {
   "cell_type": "code",
   "execution_count": 55,
   "id": "6b4204de",
   "metadata": {},
   "outputs": [
    {
     "data": {
      "text/plain": [
       "208"
      ]
     },
     "execution_count": 55,
     "metadata": {},
     "output_type": "execute_result"
    }
   ],
   "source": [
    "# check null values in `Seats` col\n",
    "df['Seats'].isnull().sum()"
   ]
  },
  {
   "cell_type": "code",
   "execution_count": 56,
   "id": "5afee7d6",
   "metadata": {},
   "outputs": [
    {
     "data": {
      "text/plain": [
       "5.0     5253\n",
       "7.0      965\n",
       "8.0      222\n",
       "4.0      124\n",
       "9.0       74\n",
       "6.0       57\n",
       "10.0      18\n",
       "2.0        2\n",
       "14.0       1\n",
       "Name: Seats, dtype: int64"
      ]
     },
     "execution_count": 56,
     "metadata": {},
     "output_type": "execute_result"
    }
   ],
   "source": [
    "# view the frequency of each number of seats\n",
    "df['Seats'].value_counts()"
   ]
  },
  {
   "cell_type": "code",
   "execution_count": 57,
   "id": "c7b0ca0e",
   "metadata": {},
   "outputs": [],
   "source": [
    "# choose the mode value to fill with the nan's\n",
    "mode_seats = df['Seats'].value_counts().index[0]\n",
    "df['Seats'].fillna(mode_seats, inplace=True)"
   ]
  },
  {
   "cell_type": "code",
   "execution_count": 58,
   "id": "a6757797",
   "metadata": {},
   "outputs": [
    {
     "data": {
      "text/plain": [
       "0"
      ]
     },
     "execution_count": 58,
     "metadata": {},
     "output_type": "execute_result"
    }
   ],
   "source": [
    "# check changes\n",
    "df['Seats'].isnull().sum()"
   ]
  },
  {
   "cell_type": "code",
   "execution_count": 59,
   "id": "16918afc",
   "metadata": {},
   "outputs": [
    {
     "data": {
      "text/plain": [
       "Name                0\n",
       "Year                0\n",
       "Selling Price       0\n",
       "Km Driven           0\n",
       "Fuel                0\n",
       "Seller Type         0\n",
       "Transmission        0\n",
       "Owner               0\n",
       "Mileage             0\n",
       "Engine (in CC)    208\n",
       "Max Power           0\n",
       "Torque            209\n",
       "Seats               0\n",
       "dtype: int64"
      ]
     },
     "execution_count": 59,
     "metadata": {},
     "output_type": "execute_result"
    }
   ],
   "source": [
    "# check null values for each col\n",
    "df.isnull().sum()"
   ]
  },
  {
   "cell_type": "code",
   "execution_count": 60,
   "id": "80b5bf41",
   "metadata": {},
   "outputs": [
    {
     "name": "stdout",
     "output_type": "stream",
     "text": [
      "<class 'pandas.core.frame.DataFrame'>\n",
      "RangeIndex: 6924 entries, 0 to 6923\n",
      "Data columns (total 13 columns):\n",
      " #   Column          Non-Null Count  Dtype  \n",
      "---  ------          --------------  -----  \n",
      " 0   Name            6924 non-null   object \n",
      " 1   Year            6924 non-null   int64  \n",
      " 2   Selling Price   6924 non-null   float64\n",
      " 3   Km Driven       6924 non-null   int64  \n",
      " 4   Fuel            6924 non-null   object \n",
      " 5   Seller Type     6924 non-null   object \n",
      " 6   Transmission    6924 non-null   object \n",
      " 7   Owner           6924 non-null   object \n",
      " 8   Mileage         6924 non-null   float64\n",
      " 9   Engine (in CC)  6716 non-null   object \n",
      " 10  Max Power       6924 non-null   float64\n",
      " 11  Torque          6715 non-null   object \n",
      " 12  Seats           6924 non-null   float64\n",
      "dtypes: float64(4), int64(2), object(7)\n",
      "memory usage: 703.3+ KB\n"
     ]
    }
   ],
   "source": [
    "# check dtypes\n",
    "df.info()"
   ]
  },
  {
   "cell_type": "code",
   "execution_count": 61,
   "id": "16611b0f",
   "metadata": {},
   "outputs": [
    {
     "name": "stdout",
     "output_type": "stream",
     "text": [
      " 6.0% of our data are null values\n"
     ]
    }
   ],
   "source": [
    "# check percentage of null values that aren't fixable, so we can decide whether to drop\n",
    "pct = df.isnull().sum().sum() / df.shape[0]*100\n",
    "print(f'{pct: .1f}% of our data are null values')"
   ]
  },
  {
   "cell_type": "code",
   "execution_count": 62,
   "id": "2e08b702",
   "metadata": {},
   "outputs": [],
   "source": [
    "# drop the remaining nan's from the dataset\n",
    "df.dropna(inplace=True)\n",
    "\n",
    "# fix index after dropping\n",
    "df.reset_index(drop=True, inplace=True)"
   ]
  },
  {
   "cell_type": "code",
   "execution_count": 63,
   "id": "655c347d",
   "metadata": {},
   "outputs": [
    {
     "name": "stdout",
     "output_type": "stream",
     "text": [
      "<class 'pandas.core.frame.DataFrame'>\n",
      "RangeIndex: 6715 entries, 0 to 6714\n",
      "Data columns (total 13 columns):\n",
      " #   Column          Non-Null Count  Dtype  \n",
      "---  ------          --------------  -----  \n",
      " 0   Name            6715 non-null   object \n",
      " 1   Year            6715 non-null   int64  \n",
      " 2   Selling Price   6715 non-null   float64\n",
      " 3   Km Driven       6715 non-null   int64  \n",
      " 4   Fuel            6715 non-null   object \n",
      " 5   Seller Type     6715 non-null   object \n",
      " 6   Transmission    6715 non-null   object \n",
      " 7   Owner           6715 non-null   object \n",
      " 8   Mileage         6715 non-null   float64\n",
      " 9   Engine (in CC)  6715 non-null   object \n",
      " 10  Max Power       6715 non-null   float64\n",
      " 11  Torque          6715 non-null   object \n",
      " 12  Seats           6715 non-null   float64\n",
      "dtypes: float64(4), int64(2), object(7)\n",
      "memory usage: 682.1+ KB\n"
     ]
    }
   ],
   "source": [
    "# check the whole dataset info\n",
    "df.info()"
   ]
  },
  {
   "cell_type": "code",
   "execution_count": 64,
   "id": "279fcc99",
   "metadata": {},
   "outputs": [],
   "source": [
    "# convert dtype of `Enngine (in CC)` col from str to int\n",
    "df['Engine (in CC)'] = df['Engine (in CC)'].astype(int)"
   ]
  },
  {
   "cell_type": "code",
   "execution_count": 65,
   "id": "9ce66b52",
   "metadata": {},
   "outputs": [],
   "source": [
    "# convert `Seats` col from float to int\n",
    "df['Seats'] = df['Seats'].astype(int)"
   ]
  },
  {
   "cell_type": "code",
   "execution_count": 66,
   "id": "280d0c42",
   "metadata": {},
   "outputs": [],
   "source": [
    "# rename `Selling Price` col for clarity\n",
    "df.rename(columns={'Selling Price':'Selling Price in $k'}, inplace=True)"
   ]
  },
  {
   "cell_type": "code",
   "execution_count": 67,
   "id": "0f5ec65e",
   "metadata": {},
   "outputs": [
    {
     "data": {
      "text/plain": [
       "array(['First Owner', 'Second Owner', 'Third Owner',\n",
       "       'Fourth & Above Owner', 'Test Drive Car'], dtype=object)"
      ]
     },
     "execution_count": 67,
     "metadata": {},
     "output_type": "execute_result"
    }
   ],
   "source": [
    "# check for typos in `Owner` col\n",
    "df['Owner'].unique()"
   ]
  },
  {
   "cell_type": "code",
   "execution_count": 68,
   "id": "ce68acb2",
   "metadata": {},
   "outputs": [],
   "source": [
    "# make a comare function to use in creating new col\n",
    "def comp(x):\n",
    "    y = x.split()[0]\n",
    "    if y == 'First': return '1'\n",
    "    elif y == 'Second': return '2'\n",
    "    elif y == 'Third': return '3'\n",
    "    elif y == 'Test': return 'T'\n",
    "    else: return '4+'"
   ]
  },
  {
   "cell_type": "code",
   "execution_count": 69,
   "id": "e41e9f15",
   "metadata": {},
   "outputs": [],
   "source": [
    "# create new col representing each category in `Owner` col with a shorter str\n",
    "df['Owner V2'] = df['Owner'].map(comp)"
   ]
  },
  {
   "cell_type": "code",
   "execution_count": 70,
   "id": "020834e5",
   "metadata": {},
   "outputs": [
    {
     "data": {
      "text/html": [
       "<div>\n",
       "<style scoped>\n",
       "    .dataframe tbody tr th:only-of-type {\n",
       "        vertical-align: middle;\n",
       "    }\n",
       "\n",
       "    .dataframe tbody tr th {\n",
       "        vertical-align: top;\n",
       "    }\n",
       "\n",
       "    .dataframe thead th {\n",
       "        text-align: right;\n",
       "    }\n",
       "</style>\n",
       "<table border=\"1\" class=\"dataframe\">\n",
       "  <thead>\n",
       "    <tr style=\"text-align: right;\">\n",
       "      <th></th>\n",
       "      <th>Owner</th>\n",
       "      <th>Owner V2</th>\n",
       "    </tr>\n",
       "  </thead>\n",
       "  <tbody>\n",
       "    <tr>\n",
       "      <th>0</th>\n",
       "      <td>First Owner</td>\n",
       "      <td>1</td>\n",
       "    </tr>\n",
       "    <tr>\n",
       "      <th>1</th>\n",
       "      <td>Second Owner</td>\n",
       "      <td>2</td>\n",
       "    </tr>\n",
       "    <tr>\n",
       "      <th>2</th>\n",
       "      <td>Third Owner</td>\n",
       "      <td>3</td>\n",
       "    </tr>\n",
       "    <tr>\n",
       "      <th>3</th>\n",
       "      <td>First Owner</td>\n",
       "      <td>1</td>\n",
       "    </tr>\n",
       "    <tr>\n",
       "      <th>4</th>\n",
       "      <td>First Owner</td>\n",
       "      <td>1</td>\n",
       "    </tr>\n",
       "  </tbody>\n",
       "</table>\n",
       "</div>"
      ],
      "text/plain": [
       "          Owner Owner V2\n",
       "0   First Owner        1\n",
       "1  Second Owner        2\n",
       "2   Third Owner        3\n",
       "3   First Owner        1\n",
       "4   First Owner        1"
      ]
     },
     "execution_count": 70,
     "metadata": {},
     "output_type": "execute_result"
    }
   ],
   "source": [
    "# view sample of the new col\n",
    "df[ ['Owner', 'Owner V2'] ].head()"
   ]
  },
  {
   "cell_type": "markdown",
   "id": "18e49770",
   "metadata": {},
   "source": [
    "### Now, data is ready for our exploration!"
   ]
  },
  {
   "cell_type": "markdown",
   "id": "ec4f2e84",
   "metadata": {},
   "source": [
    "# Exploratory Data Analysis (EDA)"
   ]
  },
  {
   "cell_type": "markdown",
   "id": "0136088f",
   "metadata": {},
   "source": [
    "## 1 - Time trend for selling prices of each ownership degree"
   ]
  },
  {
   "cell_type": "code",
   "execution_count": 71,
   "id": "7bac5f4a",
   "metadata": {},
   "outputs": [],
   "source": [
    "# split dataset into four groups, one for each ownership category\n",
    "Owner_1 = df.loc[ df['Owner V2'] == '1' ].groupby('Year')['Selling Price in $k'].mean()\n",
    "Owner_2 = df.loc[ df['Owner V2'] == '2' ].groupby('Year')['Selling Price in $k'].mean()\n",
    "Owner_3 = df.loc[ df['Owner V2'] == '3' ].groupby('Year')['Selling Price in $k'].mean()\n",
    "Owner_4 = df.loc[ df['Owner V2'] == '4+' ].groupby('Year')['Selling Price in $k'].mean()\n",
    "\n",
    "# make list of ownership labels to use as legend\n",
    "labels = df['Owner'].unique()[:4]"
   ]
  },
  {
   "cell_type": "code",
   "execution_count": 72,
   "id": "3ecd1ef7",
   "metadata": {},
   "outputs": [
    {
     "data": {
      "image/png": "[encoded data removed]",
      "text/plain": [
       "<Figure size 576x576 with 1 Axes>"
      ]
     },
     "metadata": {
      "needs_background": "light"
     },
     "output_type": "display_data"
    }
   ],
   "source": [
    "# plot our time trend\n",
    "plt.figure(figsize=(8,8))\n",
    "\n",
    "plt.plot(Owner_1.index, Owner_1.values, 'r', label=labels[0])\n",
    "plt.plot(Owner_2.index, Owner_2.values, 'g', label=labels[1])\n",
    "plt.plot(Owner_3.index, Owner_3.values, 'b', label=labels[2])\n",
    "plt.plot(Owner_4.index, Owner_4.values, 'k', label=labels[3])\n",
    "plt.ylim(top = 1000)\n",
    "plt.legend()\n",
    "plt.xlabel('Year', fontdict={'size':15, 'weight':'bold'})\n",
    "plt.ylabel('Selling Price in $k', fontdict={'size':15, 'weight':'bold'})\n",
    "\n",
    "plt.show()"
   ]
  },
  {
   "cell_type": "markdown",
   "id": "769896f2",
   "metadata": {},
   "source": [
    "## 2 - Is there a seller type who dominates selling the more expensive cars than others, concerning each ownership degree (in first & second owners)?"
   ]
  },
  {
   "cell_type": "code",
   "execution_count": 73,
   "id": "4f78e57c",
   "metadata": {},
   "outputs": [
    {
     "data": {
      "text/plain": [
       "Seller Type       Owner V2\n",
       "Dealer            1            952.743401\n",
       "                  2            651.452333\n",
       "                  3            296.250000\n",
       "                  T           4403.800000\n",
       "Individual        1            566.571966\n",
       "                  2            381.464043\n",
       "                  3            289.698391\n",
       "                  4+           231.970916\n",
       "Trustmark Dealer  1            734.958333\n",
       "                  2            583.333333\n",
       "Name: Selling Price in $k, dtype: float64"
      ]
     },
     "execution_count": 73,
     "metadata": {},
     "output_type": "execute_result"
    }
   ],
   "source": [
    "# group our data by `Seller Type` and `Owner V2` cols, with the mean selling price\n",
    "test = df.groupby(by=['Seller Type', 'Owner V2'])['Selling Price in $k'].mean()\n",
    "test"
   ]
  },
  {
   "cell_type": "code",
   "execution_count": 74,
   "id": "55fb6228",
   "metadata": {},
   "outputs": [],
   "source": [
    "# make some variables to ease plotting\n",
    "types = df['Seller Type'].unique()\n",
    "owners = df['Owner'].unique()[:2]\n",
    "\n",
    "x = np.arange(1,len(owners)+1)\n",
    "width = 0.25\n",
    "multi = -1"
   ]
  },
  {
   "cell_type": "code",
   "execution_count": 75,
   "id": "de6cdc34",
   "metadata": {},
   "outputs": [
    {
     "data": {
      "image/png": "[encoded data removed]",
      "text/plain": [
       "<Figure size 576x576 with 1 Axes>"
      ]
     },
     "metadata": {
      "needs_background": "light"
     },
     "output_type": "display_data"
    }
   ],
   "source": [
    "# plot clustered bar graph for our focus data\n",
    "plt.figure(figsize=(8,8))\n",
    "\n",
    "for i, v in enumerate(types):\n",
    "    plt.bar(x+width*multi, test[v][:2], width=width, label=v)\n",
    "    multi += 1\n",
    "\n",
    "plt.xticks(np.arange(1,3), owners)\n",
    "plt.xlabel('Ownership category', fontdict={'size':15, 'weight':'bold'})\n",
    "plt.ylabel('Mean Selling Prices in $k', fontdict={'size':15, 'weight':'bold'})\n",
    "plt.legend()\n",
    "\n",
    "plt.show()"
   ]
  },
  {
   "cell_type": "markdown",
   "id": "3b0f075a",
   "metadata": {},
   "source": [
    "## 3 - Time trend of quantity produced of each transmission type"
   ]
  },
  {
   "cell_type": "code",
   "execution_count": 76,
   "id": "31e2dcd1",
   "metadata": {},
   "outputs": [],
   "source": [
    "# group our data by `Transmission` and `Year` cols, with counts of records in each category\n",
    "test = df.groupby(['Transmission', 'Year'])['Name'].count()"
   ]
  },
  {
   "cell_type": "code",
   "execution_count": 77,
   "id": "8c48712f",
   "metadata": {},
   "outputs": [
    {
     "data": {
      "image/png": "[encoded data removed]",
      "text/plain": [
       "<Figure size 576x576 with 1 Axes>"
      ]
     },
     "metadata": {
      "needs_background": "light"
     },
     "output_type": "display_data"
    }
   ],
   "source": [
    "# plot time trend of our focus data\n",
    "plt.figure(figsize=(8,8))\n",
    "\n",
    "plt.plot(test['Automatic'].index, test['Automatic'].values, 'r', label='Automatic')\n",
    "plt.plot(test['Manual'].index, test['Manual'].values, 'b', label='Manual')\n",
    "\n",
    "plt.xlabel('Year', fontdict={'size':15, 'weight':'bold'})\n",
    "plt.ylabel('Cars produced', fontdict={'size':15, 'weight':'bold'})\n",
    "plt.legend()\n",
    "plt.show()"
   ]
  },
  {
   "cell_type": "markdown",
   "id": "8734e8de",
   "metadata": {},
   "source": [
    "## 4 - Time trend of each transmission type selling prices"
   ]
  },
  {
   "cell_type": "code",
   "execution_count": 78,
   "id": "c0fee975",
   "metadata": {},
   "outputs": [],
   "source": [
    "# group our data by `Transmission` and `Year` cols, with mean selling price\n",
    "test2 = df.groupby(['Transmission', 'Year'])['Selling Price in $k'].mean()"
   ]
  },
  {
   "cell_type": "code",
   "execution_count": 79,
   "id": "7723f567",
   "metadata": {},
   "outputs": [
    {
     "data": {
      "image/png": "[encoded data removed]",
      "text/plain": [
       "<Figure size 576x576 with 1 Axes>"
      ]
     },
     "metadata": {
      "needs_background": "light"
     },
     "output_type": "display_data"
    }
   ],
   "source": [
    "# plot time trend of our focus data\n",
    "plt.figure(figsize=(8,8))\n",
    "\n",
    "plt.plot(test['Automatic'].index, test2['Automatic'].values, 'r', label='Automatic')\n",
    "plt.plot(test['Manual'].index, test2['Manual'].values, 'b', label='Manual')\n",
    "\n",
    "plt.xlabel('Year', fontdict={'size':15, 'weight':'bold'})\n",
    "plt.ylabel('Selling Price in $k', fontdict={'size':15, 'weight':'bold'})\n",
    "plt.legend()\n",
    "plt.show()"
   ]
  },
  {
   "cell_type": "markdown",
   "id": "a7d5b749",
   "metadata": {},
   "source": [
    "## 5 - Do a transmission type vehicles' drivers tend to drive more than others?"
   ]
  },
  {
   "cell_type": "code",
   "execution_count": 80,
   "id": "67a5a41f",
   "metadata": {},
   "outputs": [],
   "source": [
    "# create new col to represent the mean km driven in each year from production untill 2021\n",
    "df['Km Driven per Year'] = df['Km Driven']/(2021-df['Year'])"
   ]
  },
  {
   "cell_type": "code",
   "execution_count": 81,
   "id": "77700380",
   "metadata": {},
   "outputs": [
    {
     "data": {
      "text/html": [
       "<div>\n",
       "<style scoped>\n",
       "    .dataframe tbody tr th:only-of-type {\n",
       "        vertical-align: middle;\n",
       "    }\n",
       "\n",
       "    .dataframe tbody tr th {\n",
       "        vertical-align: top;\n",
       "    }\n",
       "\n",
       "    .dataframe thead th {\n",
       "        text-align: right;\n",
       "    }\n",
       "</style>\n",
       "<table border=\"1\" class=\"dataframe\">\n",
       "  <thead>\n",
       "    <tr style=\"text-align: right;\">\n",
       "      <th></th>\n",
       "      <th>Name</th>\n",
       "      <th>Year</th>\n",
       "      <th>Selling Price in $k</th>\n",
       "      <th>Km Driven</th>\n",
       "      <th>Fuel</th>\n",
       "      <th>Seller Type</th>\n",
       "      <th>Transmission</th>\n",
       "      <th>Owner</th>\n",
       "      <th>Mileage</th>\n",
       "      <th>Engine (in CC)</th>\n",
       "      <th>Max Power</th>\n",
       "      <th>Torque</th>\n",
       "      <th>Seats</th>\n",
       "      <th>Owner V2</th>\n",
       "      <th>Km Driven per Year</th>\n",
       "    </tr>\n",
       "  </thead>\n",
       "  <tbody>\n",
       "    <tr>\n",
       "      <th>0</th>\n",
       "      <td>Maruti Swift Dzire VDI</td>\n",
       "      <td>2014</td>\n",
       "      <td>450.0</td>\n",
       "      <td>145500</td>\n",
       "      <td>Diesel</td>\n",
       "      <td>Individual</td>\n",
       "      <td>Manual</td>\n",
       "      <td>First Owner</td>\n",
       "      <td>23.40</td>\n",
       "      <td>1248</td>\n",
       "      <td>74.00</td>\n",
       "      <td>190Nm@ 2000rpm</td>\n",
       "      <td>5</td>\n",
       "      <td>1</td>\n",
       "      <td>20785.714286</td>\n",
       "    </tr>\n",
       "    <tr>\n",
       "      <th>1</th>\n",
       "      <td>Skoda Rapid 1.5 TDI Ambition</td>\n",
       "      <td>2014</td>\n",
       "      <td>370.0</td>\n",
       "      <td>120000</td>\n",
       "      <td>Diesel</td>\n",
       "      <td>Individual</td>\n",
       "      <td>Manual</td>\n",
       "      <td>Second Owner</td>\n",
       "      <td>21.14</td>\n",
       "      <td>1498</td>\n",
       "      <td>103.52</td>\n",
       "      <td>250Nm@ 1500-2500rpm</td>\n",
       "      <td>5</td>\n",
       "      <td>2</td>\n",
       "      <td>17142.857143</td>\n",
       "    </tr>\n",
       "    <tr>\n",
       "      <th>2</th>\n",
       "      <td>Honda City 2017-2020 EXi</td>\n",
       "      <td>2006</td>\n",
       "      <td>158.0</td>\n",
       "      <td>140000</td>\n",
       "      <td>Petrol</td>\n",
       "      <td>Individual</td>\n",
       "      <td>Manual</td>\n",
       "      <td>Third Owner</td>\n",
       "      <td>17.70</td>\n",
       "      <td>1497</td>\n",
       "      <td>78.00</td>\n",
       "      <td>12.7@ 2,700(kgm@ rpm)</td>\n",
       "      <td>5</td>\n",
       "      <td>3</td>\n",
       "      <td>9333.333333</td>\n",
       "    </tr>\n",
       "    <tr>\n",
       "      <th>3</th>\n",
       "      <td>Hyundai i20 Sportz Diesel</td>\n",
       "      <td>2010</td>\n",
       "      <td>225.0</td>\n",
       "      <td>127000</td>\n",
       "      <td>Diesel</td>\n",
       "      <td>Individual</td>\n",
       "      <td>Manual</td>\n",
       "      <td>First Owner</td>\n",
       "      <td>23.00</td>\n",
       "      <td>1396</td>\n",
       "      <td>90.00</td>\n",
       "      <td>22.4 kgm at 1750-2750rpm</td>\n",
       "      <td>5</td>\n",
       "      <td>1</td>\n",
       "      <td>11545.454545</td>\n",
       "    </tr>\n",
       "    <tr>\n",
       "      <th>4</th>\n",
       "      <td>Maruti Swift VXI BSIII</td>\n",
       "      <td>2007</td>\n",
       "      <td>130.0</td>\n",
       "      <td>120000</td>\n",
       "      <td>Petrol</td>\n",
       "      <td>Individual</td>\n",
       "      <td>Manual</td>\n",
       "      <td>First Owner</td>\n",
       "      <td>16.10</td>\n",
       "      <td>1298</td>\n",
       "      <td>88.20</td>\n",
       "      <td>11.5@ 4,500(kgm@ rpm)</td>\n",
       "      <td>5</td>\n",
       "      <td>1</td>\n",
       "      <td>8571.428571</td>\n",
       "    </tr>\n",
       "  </tbody>\n",
       "</table>\n",
       "</div>"
      ],
      "text/plain": [
       "                           Name  Year  Selling Price in $k  Km Driven    Fuel  \\\n",
       "0        Maruti Swift Dzire VDI  2014                450.0     145500  Diesel   \n",
       "1  Skoda Rapid 1.5 TDI Ambition  2014                370.0     120000  Diesel   \n",
       "2      Honda City 2017-2020 EXi  2006                158.0     140000  Petrol   \n",
       "3     Hyundai i20 Sportz Diesel  2010                225.0     127000  Diesel   \n",
       "4        Maruti Swift VXI BSIII  2007                130.0     120000  Petrol   \n",
       "\n",
       "  Seller Type Transmission         Owner  Mileage  Engine (in CC)  Max Power  \\\n",
       "0  Individual       Manual   First Owner    23.40            1248      74.00   \n",
       "1  Individual       Manual  Second Owner    21.14            1498     103.52   \n",
       "2  Individual       Manual   Third Owner    17.70            1497      78.00   \n",
       "3  Individual       Manual   First Owner    23.00            1396      90.00   \n",
       "4  Individual       Manual   First Owner    16.10            1298      88.20   \n",
       "\n",
       "                     Torque  Seats Owner V2  Km Driven per Year  \n",
       "0            190Nm@ 2000rpm      5        1        20785.714286  \n",
       "1       250Nm@ 1500-2500rpm      5        2        17142.857143  \n",
       "2     12.7@ 2,700(kgm@ rpm)      5        3         9333.333333  \n",
       "3  22.4 kgm at 1750-2750rpm      5        1        11545.454545  \n",
       "4     11.5@ 4,500(kgm@ rpm)      5        1         8571.428571  "
      ]
     },
     "execution_count": 81,
     "metadata": {},
     "output_type": "execute_result"
    }
   ],
   "source": [
    "# view few rows to check changes\n",
    "df.head()"
   ]
  },
  {
   "cell_type": "code",
   "execution_count": 82,
   "id": "9d032b16",
   "metadata": {},
   "outputs": [
    {
     "data": {
      "text/plain": [
       "Transmission\n",
       "Automatic     9313.005333\n",
       "Manual       10820.956915\n",
       "Name: Km Driven per Year, dtype: float64"
      ]
     },
     "execution_count": 82,
     "metadata": {},
     "output_type": "execute_result"
    }
   ],
   "source": [
    "# group our data with `Transmission` col, with mean Km Driven per Year\n",
    "trans = df.groupby('Transmission')['Km Driven per Year'].mean()\n",
    "trans"
   ]
  },
  {
   "cell_type": "code",
   "execution_count": 83,
   "id": "1db77f53",
   "metadata": {},
   "outputs": [
    {
     "data": {
      "image/png": "[encoded data removed]",
      "text/plain": [
       "<Figure size 576x576 with 1 Axes>"
      ]
     },
     "metadata": {
      "needs_background": "light"
     },
     "output_type": "display_data"
    }
   ],
   "source": [
    "# plot a horizontal bar graph of our focus data\n",
    "plt.figure(figsize=(8,8))\n",
    "\n",
    "plt.barh(trans.index, trans.values, height=0.5)\n",
    "\n",
    "plt.xlabel('Mean Km Driven per Year', fontdict={'size':15, 'weight':'bold'})\n",
    "plt.ylabel('Transmission', fontdict={'size':15, 'weight':'bold'})\n",
    "plt.xlim(right=12000)\n",
    "\n",
    "plt.show()"
   ]
  },
  {
   "cell_type": "markdown",
   "id": "a4178ee4",
   "metadata": {},
   "source": [
    "## 6 - Which car size is consumed in driving most?"
   ]
  },
  {
   "cell_type": "code",
   "execution_count": 84,
   "id": "f3321a18",
   "metadata": {},
   "outputs": [],
   "source": [
    "# group our data by `Seats` col, with mean Km Driven per Year\n",
    "test = df.groupby('Seats')['Km Driven per Year'].mean()"
   ]
  },
  {
   "cell_type": "code",
   "execution_count": 85,
   "id": "9cb98673",
   "metadata": {},
   "outputs": [
    {
     "data": {
      "image/png": "[encoded data removed]",
      "text/plain": [
       "<Figure size 576x576 with 1 Axes>"
      ]
     },
     "metadata": {
      "needs_background": "light"
     },
     "output_type": "display_data"
    }
   ],
   "source": [
    "# plot a horizontal bar graph of our focus data\n",
    "plt.figure(figsize=(8,8))\n",
    "\n",
    "plt.barh(test.index, test.values)\n",
    "\n",
    "plt.ylabel('Number of Seats', fontdict={'size':15, 'weight':'bold'})\n",
    "plt.xlabel('Mean Km Driven per Year', fontdict={'size':15, 'weight':'bold'})\n",
    "\n",
    "plt.show()"
   ]
  },
  {
   "cell_type": "markdown",
   "id": "ad6463cc",
   "metadata": {},
   "source": [
    "## 7 - Time trend of vehicles selling prices, concerning fuel types"
   ]
  },
  {
   "cell_type": "code",
   "execution_count": 86,
   "id": "b9952891",
   "metadata": {},
   "outputs": [
    {
     "data": {
      "text/plain": [
       "Fuel    Year\n",
       "CNG     2008    120.000000\n",
       "        2010    188.333333\n",
       "        2011    198.500000\n",
       "        2012    221.400000\n",
       "        2013    219.666667\n",
       "                   ...    \n",
       "Petrol  2016    445.550129\n",
       "        2017    547.054598\n",
       "        2018    583.707194\n",
       "        2019    760.805380\n",
       "        2020    595.666619\n",
       "Name: Selling Price in $k, Length: 69, dtype: float64"
      ]
     },
     "execution_count": 86,
     "metadata": {},
     "output_type": "execute_result"
    }
   ],
   "source": [
    "# group our data by `Fuel` and `Year` col, with mean Selling Price\n",
    "test = df.groupby(['Fuel', 'Year'])['Selling Price in $k'].mean()\n",
    "test"
   ]
  },
  {
   "cell_type": "code",
   "execution_count": 87,
   "id": "5078c37a",
   "metadata": {},
   "outputs": [],
   "source": [
    "# make some variables to ease plotting\n",
    "fuels = df['Fuel'].unique()\n",
    "colors = ['r', 'g', 'b', 'k']"
   ]
  },
  {
   "cell_type": "code",
   "execution_count": 88,
   "id": "25135a0c",
   "metadata": {},
   "outputs": [
    {
     "data": {
      "image/png": "[encoded data removed]",
      "text/plain": [
       "<Figure size 576x576 with 1 Axes>"
      ]
     },
     "metadata": {
      "needs_background": "light"
     },
     "output_type": "display_data"
    }
   ],
   "source": [
    "# plot time trend of our focus data\n",
    "plt.figure(figsize=(8,8))\n",
    "\n",
    "for f,c in zip(fuels, colors):\n",
    "    plt.plot(test[f].index, test[f].values, label=f, color=c)\n",
    "\n",
    "plt.xlabel('Year', fontdict={'size':15, 'weight':'bold'})\n",
    "plt.ylabel('Selling Price in $k', fontdict={'size':15, 'weight':'bold'})\n",
    "    \n",
    "plt.legend()\n",
    "plt.show()"
   ]
  },
  {
   "cell_type": "markdown",
   "id": "96a9aaaf",
   "metadata": {},
   "source": [
    "## 8 - Which transmission type dominates each car size (in number of seats)?"
   ]
  },
  {
   "cell_type": "code",
   "execution_count": 89,
   "id": "1a6c4704",
   "metadata": {},
   "outputs": [
    {
     "data": {
      "text/plain": [
       "Transmission  Seats\n",
       "Automatic     5         457\n",
       "              7          92\n",
       "              8          14\n",
       "              4          12\n",
       "Manual        5        4796\n",
       "              7         873\n",
       "              8         207\n",
       "              4         112\n",
       "              9          74\n",
       "              6          57\n",
       "              10         18\n",
       "              2           2\n",
       "              14          1\n",
       "Name: Seats, dtype: int64"
      ]
     },
     "execution_count": 89,
     "metadata": {},
     "output_type": "execute_result"
    }
   ],
   "source": [
    "# group our data by `Transmission` col, with counts of each number of seats\n",
    "test = df.groupby(['Transmission'])['Seats'].value_counts()\n",
    "test"
   ]
  },
  {
   "cell_type": "code",
   "execution_count": 90,
   "id": "4dd709a4",
   "metadata": {},
   "outputs": [],
   "source": [
    "# make some variables to ease plotting\n",
    "trans = df['Transmission'].unique()\n",
    "seats = df['Seats'].unique()\n",
    "\n",
    "multi = -0.5"
   ]
  },
  {
   "cell_type": "code",
   "execution_count": 91,
   "id": "9dbf3890",
   "metadata": {},
   "outputs": [
    {
     "data": {
      "image/png": "[encoded data removed]",
      "text/plain": [
       "<Figure size 720x720 with 1 Axes>"
      ]
     },
     "metadata": {
      "needs_background": "light"
     },
     "output_type": "display_data"
    }
   ],
   "source": [
    "# plot a clustered bar graph of our focus data\n",
    "plt.figure(figsize=(10,10))\n",
    "\n",
    "for i in trans:\n",
    "    plt.bar(test[i].index+multi*width, test[i].values, width=width, label=i)\n",
    "    multi *= -1\n",
    "\n",
    "plt.xticks(seats)\n",
    "plt.xlabel('Number of Seats', fontdict={'size':15, 'weight':'bold'})\n",
    "plt.ylabel('Number of Vehicles', fontdict={'size':15, 'weight':'bold'})\n",
    "\n",
    "plt.legend()\n",
    "plt.show()"
   ]
  },
  {
   "cell_type": "markdown",
   "id": "b649468b",
   "metadata": {},
   "source": [
    "# Thanks for your interest!\n",
    "## I hope you share me your feedback at: https://www.linkedin.com/in/moamen-abdelrahman05/"
   ]
  }
 ],
 "metadata": {
  "kernelspec": {
   "display_name": "Python 3 (ipykernel)",
   "language": "python",
   "name": "python3"
  },
  "language_info": {
   "codemirror_mode": {
    "name": "ipython",
    "version": 3
   },
   "file_extension": ".py",
   "mimetype": "text/x-python",
   "name": "python",
   "nbconvert_exporter": "python",
   "pygments_lexer": "ipython3",
   "version": "3.9.12"
  }
 },
 "nbformat": 4,
 "nbformat_minor": 5
}
